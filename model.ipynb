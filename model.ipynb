{
 "cells": [
  {
   "cell_type": "code",
   "execution_count": 40,
   "metadata": {},
   "outputs": [],
   "source": [
    "import numpy as np\n",
    "import re\n",
    "import itertools"
   ]
  },
  {
   "cell_type": "code",
   "execution_count": 140,
   "metadata": {},
   "outputs": [],
   "source": [
    "M = np.load('word2vec.npy')\n",
    "word2index = dict()\n",
    "with open('word_lst.txt') as file:\n",
    "    for counter, line in enumerate(file):\n",
    "        word = line.strip()\n",
    "        word2index[word] = counter\n",
    "\n",
    "def pair_score(word1, word2):\n",
    "    try:\n",
    "        vec1 = M[word2index[word1]]\n",
    "        vec2 = M[word2index[word2]]\n",
    "    except:\n",
    "        return 0\n",
    "    return np.abs(np.dot(vec1, vec2))\n",
    "\n",
    "def calc_sentence_score(sentence):\n",
    "    score = 0\n",
    "    \n",
    "    if len(sentence) <= 1:\n",
    "        return score\n",
    "    \n",
    "    for i in range(len(sentence) - 1):\n",
    "        word1 = sentence[i]\n",
    "        word2 = sentence[i + 1]\n",
    "        score += pair_score(word1, word2)\n",
    "    \n",
    "    return score\n",
    "        \n",
    "def get_vec(word):\n",
    "    try:\n",
    "        retval = M[word2index[word]]\n",
    "    except KeyError:\n",
    "        retval = np.zeros(200)"
   ]
  },
  {
   "cell_type": "code",
   "execution_count": 33,
   "metadata": {},
   "outputs": [],
   "source": [
    "def import_dataset(filename):\n",
    "    \n",
    "    start_tag = '<S>'\n",
    "    end_tag = '</S>'\n",
    "    \n",
    "    sentence_lst = [] # Sentence is a list word which is list of candidate roots\n",
    "    sentence_correct_lst = []\n",
    "    with open(filename) as file:\n",
    "        start_parsing = False\n",
    "        for line in file:\n",
    "            if start_parsing:\n",
    "                if line.startswith(end_tag):\n",
    "                    start_parsing = False\n",
    "                    sentence_lst.append(sentence)\n",
    "                    sentence_correct_lst.append(sentence_correct)\n",
    "                else:\n",
    "                    root_set = set()\n",
    "                    candidate_lst = line.split()[1:]\n",
    "                    for parse in candidate_lst:\n",
    "                        try:\n",
    "                            root_candidate = parse[:parse.index('+')]\n",
    "                        except ValueError:\n",
    "                            continue\n",
    "                        root_set.add(root_candidate.lower())\n",
    "                    if root_set:\n",
    "                        sentence.append(list(root_set))\n",
    "                    \n",
    "                        correct = candidate_lst[0][:candidate_lst[0].index('+')]\n",
    "                        sentence_correct.append(correct.lower())\n",
    "                        \n",
    "                \n",
    "            else:\n",
    "                if line.startswith(start_tag):\n",
    "                    start_parsing = True\n",
    "                    sentence = []\n",
    "                    sentence_correct = []\n",
    "                    \n",
    "        return sentence_correct_lst, sentence_lst"
   ]
  },
  {
   "cell_type": "code",
   "execution_count": 34,
   "metadata": {},
   "outputs": [],
   "source": [
    "dataset_filename = 'dataset/test.merge'\n",
    "sentence_correct_lst, sentence_lst = import_dataset(dataset_filename)"
   ]
  },
  {
   "cell_type": "code",
   "execution_count": 114,
   "metadata": {},
   "outputs": [],
   "source": [
    "class ScoreModel:\n",
    "    def __init__(self, verbose=False):\n",
    "        self.verbose = verbose\n",
    "    \n",
    "    def predict(self, sentence):\n",
    "        max_score = float('-inf')\n",
    "        predict_sentence = None\n",
    "        for element in itertools.product(*sentence):\n",
    "            score = calc_sentence_score(element)\n",
    "            if self.verbose:\n",
    "                print(element)\n",
    "                print('Score: %.2f' % score)\n",
    "                print()\n",
    "            if score > max_score:\n",
    "                max_score = score\n",
    "                predict_sentence = list(element)\n",
    "        return predict_sentence"
   ]
  },
  {
   "cell_type": "code",
   "execution_count": 141,
   "metadata": {},
   "outputs": [
    {
     "name": "stdout",
     "output_type": "stream",
     "text": [
      "804\n",
      "57\n",
      "0.9337979094076655\n"
     ]
    }
   ],
   "source": [
    "correct_count = 0\n",
    "false_count = 0\n",
    "\n",
    "mdl = ScoreModel()\n",
    "for sentence, sentence_correct in zip(sentence_lst, sentence_correct_lst):\n",
    "    predict_sentence = mdl.predict(sentence)\n",
    "\n",
    "    for word1, word2 in zip(predict_sentence, sentence_correct):\n",
    "        if word1 == word2:\n",
    "            correct_count += 1\n",
    "        else:\n",
    "            false_count += 1\n",
    "\n",
    "print(correct_count)\n",
    "print(false_count)\n",
    "\n",
    "total_count = correct_count + false_count\n",
    "accuracy = correct_count / total_count\n",
    "print(accuracy)"
   ]
  },
  {
   "cell_type": "code",
   "execution_count": 128,
   "metadata": {},
   "outputs": [],
   "source": [
    "def parse_sentence(sentence):\n",
    "    sentence = '\\'' + sentence + '\\''\n",
    "    word_lst = !./parser.py {sentence}\n",
    "    #print(word_lst)\n",
    "    retval = []\n",
    "    for word in word_lst:\n",
    "        root_lst = word.split()\n",
    "        retval.append(root_lst)\n",
    "    return retval"
   ]
  },
  {
   "cell_type": "markdown",
   "metadata": {},
   "source": [
    "    Sentence Examples\n",
    "    \n",
    "    dolar fiyatları beş TL seviyesinde bulunurken Euro fiyatları altı TL seviyesinde hareket ediyor\n",
    "    yorulunca alın damarları gözükmeye başladı\n",
    "    istediğiniz kadar ürün alın \n",
    "    sözlerine çok alındı (Wrong)\n",
    "    ya iyi olarak ölürsün ya da kötüye dönüşecek kadar uzun yaşarsın\n",
    "    nedir amacımız bunu göndermekle uzaylılara karsı bir sinerji yaratalım dostluk olsun mu\n",
    "    kafanızı kullansaydınız o taşların doğada bulunan 4 elementi simgelediğini anlardınız"
   ]
  },
  {
   "cell_type": "code",
   "execution_count": 161,
   "metadata": {},
   "outputs": [
    {
     "name": "stdout",
     "output_type": "stream",
     "text": [
      "[['kafa'], ['kul', 'kullan'], ['o'], ['taşla', 'taş'], ['doğa'], ['bulun', 'bul'], ['4'], ['element'], ['simgele'], ['anla', 'an']]\n",
      "kafanızı kullansaydınız o taşların doğada bulunan 4 elementi simgelediğini anlardınız\n",
      "('kafa', 'kul', 'o', 'taşla', 'doğa', 'bulun', '4', 'element', 'simgele', 'anla')\n",
      "Score: 3.24\n",
      "\n",
      "('kafa', 'kul', 'o', 'taşla', 'doğa', 'bulun', '4', 'element', 'simgele', 'an')\n",
      "Score: 3.24\n",
      "\n",
      "('kafa', 'kul', 'o', 'taşla', 'doğa', 'bul', '4', 'element', 'simgele', 'anla')\n",
      "Score: 3.24\n",
      "\n",
      "('kafa', 'kul', 'o', 'taşla', 'doğa', 'bul', '4', 'element', 'simgele', 'an')\n",
      "Score: 3.24\n",
      "\n",
      "('kafa', 'kul', 'o', 'taş', 'doğa', 'bulun', '4', 'element', 'simgele', 'anla')\n",
      "Score: 69.80\n",
      "\n",
      "('kafa', 'kul', 'o', 'taş', 'doğa', 'bulun', '4', 'element', 'simgele', 'an')\n",
      "Score: 69.80\n",
      "\n",
      "('kafa', 'kul', 'o', 'taş', 'doğa', 'bul', '4', 'element', 'simgele', 'anla')\n",
      "Score: 69.80\n",
      "\n",
      "('kafa', 'kul', 'o', 'taş', 'doğa', 'bul', '4', 'element', 'simgele', 'an')\n",
      "Score: 69.80\n",
      "\n",
      "('kafa', 'kullan', 'o', 'taşla', 'doğa', 'bulun', '4', 'element', 'simgele', 'anla')\n",
      "Score: 16.62\n",
      "\n",
      "('kafa', 'kullan', 'o', 'taşla', 'doğa', 'bulun', '4', 'element', 'simgele', 'an')\n",
      "Score: 16.62\n",
      "\n",
      "('kafa', 'kullan', 'o', 'taşla', 'doğa', 'bul', '4', 'element', 'simgele', 'anla')\n",
      "Score: 16.62\n",
      "\n",
      "('kafa', 'kullan', 'o', 'taşla', 'doğa', 'bul', '4', 'element', 'simgele', 'an')\n",
      "Score: 16.62\n",
      "\n",
      "('kafa', 'kullan', 'o', 'taş', 'doğa', 'bulun', '4', 'element', 'simgele', 'anla')\n",
      "Score: 83.18\n",
      "\n",
      "('kafa', 'kullan', 'o', 'taş', 'doğa', 'bulun', '4', 'element', 'simgele', 'an')\n",
      "Score: 83.18\n",
      "\n",
      "('kafa', 'kullan', 'o', 'taş', 'doğa', 'bul', '4', 'element', 'simgele', 'anla')\n",
      "Score: 83.18\n",
      "\n",
      "('kafa', 'kullan', 'o', 'taş', 'doğa', 'bul', '4', 'element', 'simgele', 'an')\n",
      "Score: 83.18\n",
      "\n",
      "Predicted roots : \n",
      "['kafa', 'kullan', 'o', 'taş', 'doğa', 'bulun', '4', 'element', 'simgele', 'anla']\n"
     ]
    }
   ],
   "source": [
    "sentence = 'kafanızı kullansaydınız o taşların doğada bulunan 4 elementi simgelediğini anlardınız'\n",
    "parsed_sentence = parse_sentence(sentence)\n",
    "print(parsed_sentence)\n",
    "print(sentence)\n",
    "\n",
    "vmodel = ScoreModel(verbose=True)\n",
    "prediction = vmodel.predict(parsed_sentence)\n",
    "\n",
    "print('Predicted roots : ')\n",
    "print(prediction)"
   ]
  }
 ],
 "metadata": {
  "kernelspec": {
   "display_name": "Python 3",
   "language": "python",
   "name": "python3"
  },
  "language_info": {
   "codemirror_mode": {
    "name": "ipython",
    "version": 3
   },
   "file_extension": ".py",
   "mimetype": "text/x-python",
   "name": "python",
   "nbconvert_exporter": "python",
   "pygments_lexer": "ipython3",
   "version": "3.6.6"
  }
 },
 "nbformat": 4,
 "nbformat_minor": 2
}
